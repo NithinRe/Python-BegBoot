{
 "cells": [
  {
   "cell_type": "code",
   "execution_count": 3,
   "metadata": {},
   "outputs": [
    {
     "name": "stdin",
     "output_type": "stream",
     "text": [
      "Enter a number :  1007\n"
     ]
    },
    {
     "name": "stdout",
     "output_type": "stream",
     "text": [
      "True\n"
     ]
    }
   ],
   "source": [
    "num = int(input('Enter a number : '))\n",
    "def near(k):\n",
    "    return (abs(1000 - k) <= 100 or abs(2000 - k) <= 100)\n",
    "print(near(num))"
   ]
  },
  {
   "cell_type": "code",
   "execution_count": 9,
   "metadata": {},
   "outputs": [
    {
     "name": "stdin",
     "output_type": "stream",
     "text": [
      "Enter a number :  3\n",
      "Enter a number :  3\n",
      "Enter a number :  3\n"
     ]
    },
    {
     "name": "stdout",
     "output_type": "stream",
     "text": [
      "27\n"
     ]
    }
   ],
   "source": [
    "x = int(input('Enter a number : '))\n",
    "y = int(input('Enter a number : '))\n",
    "z = int(input('Enter a number : '))\n",
    "def equal(a,b,c):\n",
    "    sum = a+b+c\n",
    "    if a==b==c :\n",
    "        sum = sum*3\n",
    "        return sum\n",
    "    else:\n",
    "        print(sum)\n",
    "\n",
    "print(equal(x,y,z))"
   ]
  },
  {
   "cell_type": "code",
   "execution_count": 11,
   "metadata": {},
   "outputs": [
    {
     "name": "stdout",
     "output_type": "stream",
     "text": [
      "IsNithin\n",
      "Isnithin\n"
     ]
    }
   ],
   "source": [
    "def new_str(str):\n",
    "    if len(str) >= 2 and str[:2] == 'Is':\n",
    "        return str\n",
    "    return 'Is' + str\n",
    "print(new_str('Nithin'))\n",
    "print(new_str('Isnithin'))"
   ]
  },
  {
   "cell_type": "code",
   "execution_count": 13,
   "metadata": {},
   "outputs": [
    {
     "name": "stdin",
     "output_type": "stream",
     "text": [
      "Enter a string :  nithin\n",
      "Enter a number :  100\n"
     ]
    },
    {
     "name": "stdout",
     "output_type": "stream",
     "text": [
      " nithinnithinnithinnithinnithinnithinnithinnithinnithinnithinnithinnithinnithinnithinnithinnithinnithinnithinnithinnithinnithinnithinnithinnithinnithinnithinnithinnithinnithinnithinnithinnithinnithinnithinnithinnithinnithinnithinnithinnithinnithinnithinnithinnithinnithinnithinnithinnithinnithinnithinnithinnithinnithinnithinnithinnithinnithinnithinnithinnithinnithinnithinnithinnithinnithinnithinnithinnithinnithinnithinnithinnithinnithinnithinnithinnithinnithinnithinnithinnithinnithinnithinnithinnithinnithinnithinnithinnithinnithinnithinnithinnithinnithinnithinnithinnithinnithinnithinnithinnithin\n"
     ]
    }
   ],
   "source": [
    "def larger(str,n):\n",
    "    result = \" \"\n",
    "    for i in range(n):\n",
    "        result = result + str\n",
    "    return result\n",
    "x = input('Enter a string : ')\n",
    "y = int(input('Enter a number : '))\n",
    "print(larger(x,y))"
   ]
  },
  {
   "cell_type": "code",
   "execution_count": 16,
   "metadata": {},
   "outputs": [
    {
     "name": "stdin",
     "output_type": "stream",
     "text": [
      "Enter a number :  3\n"
     ]
    },
    {
     "name": "stdout",
     "output_type": "stream",
     "text": [
      "the given number is odd\n"
     ]
    }
   ],
   "source": [
    "def even_odd(a):\n",
    "    if a%2 == 0:\n",
    "        return ('The given number is even number')\n",
    "    else:\n",
    "        return ('the given number is odd')\n",
    "x = int(input('Enter a number : '))\n",
    "print(even_odd(x))"
   ]
  },
  {
   "cell_type": "code",
   "execution_count": 18,
   "metadata": {},
   "outputs": [
    {
     "name": "stdout",
     "output_type": "stream",
     "text": [
      "3\n"
     ]
    }
   ],
   "source": [
    "def lst(nums):\n",
    "    count = 0\n",
    "    for num in nums:\n",
    "        if num ==4 :\n",
    "            count = count + 1\n",
    "    return count\n",
    "print(lst([1,3,4,4,5,6,4]))"
   ]
  },
  {
   "cell_type": "code",
   "execution_count": 22,
   "metadata": {},
   "outputs": [
    {
     "name": "stdin",
     "output_type": "stream",
     "text": [
      "Enter a vowel letter :  aeiou\n"
     ]
    },
    {
     "name": "stdout",
     "output_type": "stream",
     "text": [
      "False\n"
     ]
    }
   ],
   "source": [
    "vowles = ['a','e','i','o','u']\n",
    "def vows(vow):\n",
    "    if vow  in vowles:\n",
    "        return True\n",
    "    else:\n",
    "        return False\n",
    "x = input('Enter a vowel letter : ')\n",
    "print(vow(x))\n"
   ]
  },
  {
   "cell_type": "code",
   "execution_count": 23,
   "metadata": {},
   "outputs": [
    {
     "name": "stdout",
     "output_type": "stream",
     "text": [
      "True\n"
     ]
    }
   ],
   "source": [
    "def group_data(group,n):\n",
    "    for value in group:\n",
    "        if n == value:\n",
    "            return True\n",
    "    return False\n",
    "print(group_data([1,2,3,4],2))"
   ]
  },
  {
   "cell_type": "code",
   "execution_count": 28,
   "metadata": {},
   "outputs": [
    {
     "name": "stdout",
     "output_type": "stream",
     "text": [
      "$\n",
      "$\n",
      "$$\n",
      "$\n",
      "$$\n",
      "$$$\n",
      "$\n",
      "$$\n",
      "$$$\n",
      "$$$$\n",
      "$\n",
      "$$\n",
      "$$$\n",
      "$$$$\n",
      "$$$$$\n"
     ]
    }
   ],
   "source": [
    "def hist(item):\n",
    "    for i in item:\n",
    "        output = ''\n",
    "        times = i\n",
    "        while( times > 0):\n",
    "            output += '$'\n",
    "            times = times - 1 \n",
    "            print(output)\n",
    "            \n",
    "hist([1,2,3,4,5])"
   ]
  },
  {
   "cell_type": "code",
   "execution_count": null,
   "metadata": {},
   "outputs": [],
   "source": []
  },
  {
   "cell_type": "code",
   "execution_count": null,
   "metadata": {},
   "outputs": [],
   "source": []
  },
  {
   "cell_type": "code",
   "execution_count": null,
   "metadata": {},
   "outputs": [],
   "source": []
  },
  {
   "cell_type": "code",
   "execution_count": null,
   "metadata": {},
   "outputs": [],
   "source": []
  },
  {
   "cell_type": "code",
   "execution_count": null,
   "metadata": {},
   "outputs": [],
   "source": []
  },
  {
   "cell_type": "code",
   "execution_count": null,
   "metadata": {},
   "outputs": [],
   "source": []
  },
  {
   "cell_type": "code",
   "execution_count": null,
   "metadata": {},
   "outputs": [],
   "source": []
  },
  {
   "cell_type": "code",
   "execution_count": null,
   "metadata": {},
   "outputs": [],
   "source": []
  },
  {
   "cell_type": "code",
   "execution_count": null,
   "metadata": {},
   "outputs": [],
   "source": []
  },
  {
   "cell_type": "code",
   "execution_count": null,
   "metadata": {},
   "outputs": [],
   "source": []
  },
  {
   "cell_type": "code",
   "execution_count": null,
   "metadata": {},
   "outputs": [],
   "source": []
  },
  {
   "cell_type": "code",
   "execution_count": null,
   "metadata": {},
   "outputs": [],
   "source": []
  },
  {
   "cell_type": "code",
   "execution_count": null,
   "metadata": {},
   "outputs": [],
   "source": []
  },
  {
   "cell_type": "code",
   "execution_count": null,
   "metadata": {},
   "outputs": [],
   "source": []
  },
  {
   "cell_type": "code",
   "execution_count": null,
   "metadata": {},
   "outputs": [],
   "source": []
  },
  {
   "cell_type": "code",
   "execution_count": null,
   "metadata": {},
   "outputs": [],
   "source": []
  },
  {
   "cell_type": "code",
   "execution_count": null,
   "metadata": {},
   "outputs": [],
   "source": []
  },
  {
   "cell_type": "code",
   "execution_count": null,
   "metadata": {},
   "outputs": [],
   "source": []
  },
  {
   "cell_type": "code",
   "execution_count": null,
   "metadata": {},
   "outputs": [],
   "source": []
  },
  {
   "cell_type": "code",
   "execution_count": null,
   "metadata": {},
   "outputs": [],
   "source": []
  }
 ],
 "metadata": {
  "kernelspec": {
   "display_name": "Python 3",
   "language": "python",
   "name": "python3"
  },
  "language_info": {
   "codemirror_mode": {
    "name": "ipython",
    "version": 3
   },
   "file_extension": ".py",
   "mimetype": "text/x-python",
   "name": "python",
   "nbconvert_exporter": "python",
   "pygments_lexer": "ipython3",
   "version": "3.7.4"
  }
 },
 "nbformat": 4,
 "nbformat_minor": 4
}
