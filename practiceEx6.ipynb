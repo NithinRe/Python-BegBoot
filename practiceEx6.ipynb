{
 "cells": [
  {
   "cell_type": "code",
   "execution_count": 27,
   "metadata": {},
   "outputs": [
    {
     "name": "stdin",
     "output_type": "stream",
     "text": [
      "Enter a number :  13129\n"
     ]
    },
    {
     "name": "stdout",
     "output_type": "stream",
     "text": [
      "1\n",
      "3\n",
      "1\n",
      "2\n",
      "7\n"
     ]
    }
   ],
   "source": [
    "#68. Write a Python program to calculate the sum of the digits in an integer\n",
    "num = int(input('Enter a number : '))\n",
    "a = num//10000\n",
    "b = (num - a*10000)//1000\n",
    "c = (num - a*10000-b*1000)//100\n",
    "d = (num - a*10000-b*1000-c*100)//10\n",
    "e = (num - a*10000-b*1000-c*100-d*10)\n",
    "\n",
    "f= a+b+c+d\n",
    "print(a)\n",
    "print(b)\n",
    "print(c)\n",
    "print(d)\n",
    "print(f)"
   ]
  },
  {
   "cell_type": "code",
   "execution_count": 31,
   "metadata": {},
   "outputs": [
    {
     "name": "stdin",
     "output_type": "stream",
     "text": [
      "Enter first number :  3\n",
      "Enter second number :  5\n",
      "Enter third number :  3\n"
     ]
    },
    {
     "name": "stdout",
     "output_type": "stream",
     "text": [
      "the sorted numbers are 3 3 5\n"
     ]
    }
   ],
   "source": [
    "#69. Write a Python program to sort three integers without using conditional statements and loops\n",
    "x = int(input('Enter first number : '))\n",
    "y = int(input('Enter second number : '))\n",
    "z = int(input('Enter third number : '))\n",
    "a = min(x,y,z)\n",
    "c = max(x,y,z)\n",
    "b = (x+y+z)-a-c\n",
    "print('the sorted numbers are',a,b,c)"
   ]
  },
  {
   "cell_type": "code",
   "execution_count": 33,
   "metadata": {},
   "outputs": [
    {
     "name": "stdout",
     "output_type": "stream",
     "text": [
      "['__doc__', '__file__', '__loader__', '__name__', '__package__', '__spec__', 'acos', 'acosh', 'asin', 'asinh', 'atan', 'atan2', 'atanh', 'ceil', 'copysign', 'cos', 'cosh', 'degrees', 'e', 'erf', 'erfc', 'exp', 'expm1', 'fabs', 'factorial', 'floor', 'fmod', 'frexp', 'fsum', 'gamma', 'gcd', 'hypot', 'inf', 'isclose', 'isfinite', 'isinf', 'isnan', 'ldexp', 'lgamma', 'log', 'log10', 'log1p', 'log2', 'modf', 'nan', 'pi', 'pow', 'radians', 'remainder', 'sin', 'sinh', 'sqrt', 'tan', 'tanh', 'tau', 'trunc']\n"
     ]
    }
   ],
   "source": [
    "import math\n",
    "maths = dir(math)\n",
    "print(maths)"
   ]
  },
  {
   "cell_type": "code",
   "execution_count": null,
   "metadata": {},
   "outputs": [],
   "source": []
  },
  {
   "cell_type": "code",
   "execution_count": 37,
   "metadata": {},
   "outputs": [
    {
     "name": "stdout",
     "output_type": "stream",
     "text": [
      "1.7320508075688772\n"
     ]
    }
   ],
   "source": [
    "from math import sqrt\n",
    "a = sqrt(3)\n",
    "print(a)"
   ]
  },
  {
   "cell_type": "code",
   "execution_count": 3,
   "metadata": {},
   "outputs": [
    {
     "name": "stdout",
     "output_type": "stream",
     "text": [
      "\n",
      " *\\------------  CALCULATE MIDPOINT VALUES  -----------/*\n",
      "\n"
     ]
    },
    {
     "name": "stdin",
     "output_type": "stream",
     "text": [
      "Enter a number : 3\n",
      "Enter a number : 7\n",
      "Enter a number : 9\n",
      "Enter a number : 3\n"
     ]
    },
    {
     "name": "stdout",
     "output_type": "stream",
     "text": [
      "The mid point value for 6.0,5.0 \n"
     ]
    }
   ],
   "source": [
    "print('\\n *\\------------  CALCULATE MIDPOINT VALUES  -----------/*\\n')\n",
    "x1 = float(input('Enter a number :'))\n",
    "y1 = float(input('Enter a number :'))\n",
    "x2 = float(input('Enter a number :'))\n",
    "y2 = float(input('Enter a number :'))\n",
    "z = (x1+x2)/2\n",
    "q = (y1+y2)/2\n",
    "print('The mid point value for {},{} '.format(z,q))\n"
   ]
  },
  {
   "cell_type": "code",
   "execution_count": null,
   "metadata": {},
   "outputs": [],
   "source": []
  },
  {
   "cell_type": "code",
   "execution_count": 43,
   "metadata": {},
   "outputs": [
    {
     "name": "stdout",
     "output_type": "stream",
     "text": [
      "\n",
      "Python Copyright Information\n",
      "Copyright (c) 2001-2019 Python Software Foundation.\n",
      "All Rights Reserved.\n",
      "\n",
      "Copyright (c) 2000 BeOpen.com.\n",
      "All Rights Reserved.\n",
      "\n",
      "Copyright (c) 1995-2001 Corporation for National Research Initiatives.\n",
      "All Rights Reserved.\n",
      "\n",
      "Copyright (c) 1991-1995 Stichting Mathematisch Centrum, Amsterdam.\n",
      "All Rights Reserved.\n",
      "\n"
     ]
    }
   ],
   "source": [
    "import sys\n",
    "print(\"\\nPython Copyright Information\")\n",
    "print(sys.copyright)\n",
    "print()\n"
   ]
  },
  {
   "cell_type": "code",
   "execution_count": 45,
   "metadata": {},
   "outputs": [
    {
     "name": "stdout",
     "output_type": "stream",
     "text": [
      "This is the name/path of the script:\n",
      "Number of arguments: 3\n",
      "Argument List: ['/Applications/anaconda3/lib/python3.7/site-packages/ipykernel_launcher.py', '-f', '/Users/nagapurnithinreddy/Library/Jupyter/runtime/kernel-879bb16e-1360-43f5-9058-06251e1dfcee.json']\n"
     ]
    }
   ],
   "source": [
    "import sys\n",
    "print(\"This is the name/path of the script:\"),sys.argv[0]\n",
    "print(\"Number of arguments:\",len(sys.argv))\n",
    "print(\"Argument List:\",str(sys.argv))\n"
   ]
  },
  {
   "cell_type": "code",
   "execution_count": 46,
   "metadata": {},
   "outputs": [
    {
     "name": "stdout",
     "output_type": "stream",
     "text": [
      "\n",
      "Little-endian platform.\n",
      "\n"
     ]
    }
   ],
   "source": [
    "import sys\n",
    "print()\n",
    "if sys.byteorder == \"little\":\n",
    "    #intel, alpha\n",
    "    print(\"Little-endian platform.\")\n",
    "else:\n",
    "    #motorola, sparc\n",
    "    print(\"Big-endian platform.\")\n",
    "print()\n"
   ]
  },
  {
   "cell_type": "code",
   "execution_count": 47,
   "metadata": {},
   "outputs": [
    {
     "name": "stdout",
     "output_type": "stream",
     "text": [
      "_abc, _ast, _codecs, _collections, _functools, _imp, _io, _locale,\n",
      "_operator, _signal, _sre, _stat, _string, _symtable, _thread,\n",
      "_tracemalloc, _warnings, _weakref, atexit, builtins, errno,\n",
      "faulthandler, gc, itertools, marshal, posix, pwd, sys, time,\n",
      "xxsubtype, zipimport\n"
     ]
    }
   ],
   "source": [
    "import sys\n",
    "import textwrap\n",
    "module_name = ', '.join(sorted(sys.builtin_module_names))\n",
    "print(textwrap.fill(module_name, width=70))\n"
   ]
  },
  {
   "cell_type": "code",
   "execution_count": 68,
   "metadata": {},
   "outputs": [
    {
     "name": "stdout",
     "output_type": "stream",
     "text": [
      "Memory size of nithin reddy = 61 bytes\n",
      "Memory size of yeshwanth = 58 bytes\n",
      "Memory size of neeraj vikas = 61 bytes\n",
      "Memory size of sai sree chakrish = 66 bytes\n",
      "61\n"
     ]
    }
   ],
   "source": [
    "import sys\n",
    "str1 = 'nithin reddy'\n",
    "str2 = 'yeshwanth'\n",
    "str3 = 'neeraj vikas'\n",
    "str4 = 'sai sree chakrish'\n",
    "print(\"Memory size of \"+str1+\" = \"+str(sys.getsizeof(str1))+ \" bytes\")\n",
    "print(\"Memory size of \"+str2+\" = \"+str(sys.getsizeof(str2))+ \" bytes\")\n",
    "print(\"Memory size of \"+str3+\" = \"+str(sys.getsizeof(str3))+ \" bytes\")\n",
    "print(\"Memory size of \"+str4+\" = \"+str(sys.getsizeof(str4))+ \" bytes\")\n",
    "print(str(sys.getsizeof(str1)))\n",
    "\n",
    "\n"
   ]
  },
  {
   "cell_type": "code",
   "execution_count": 2,
   "metadata": {},
   "outputs": [
    {
     "name": "stdout",
     "output_type": "stream",
     "text": [
      "\n",
      "True\n",
      "False\n",
      "\n"
     ]
    }
   ],
   "source": [
    "num = [2,6,4]\n",
    "print()\n",
    "print(all(x > 1 for x in num))\n",
    "print(all(x > 4 for x in num))\n",
    "print()\n"
   ]
  },
  {
   "cell_type": "code",
   "execution_count": 4,
   "metadata": {},
   "outputs": [
    {
     "name": "stdin",
     "output_type": "stream",
     "text": [
      "Enter a number :  30\n",
      "Enter a number :  20\n"
     ]
    },
    {
     "name": "stdout",
     "output_type": "stream",
     "text": [
      "30 + 20 is 50\n"
     ]
    }
   ],
   "source": [
    "x = int(input('Enter a number : '))\n",
    "y = int(input('Enter a number : '))\n",
    "sum = x+y\n",
    "print('{} + {} is {}'.format(x,y,sum))"
   ]
  },
  {
   "cell_type": "code",
   "execution_count": 7,
   "metadata": {},
   "outputs": [
    {
     "name": "stdin",
     "output_type": "stream",
     "text": [
      "Enter a value :  1\n"
     ]
    },
    {
     "name": "stdout",
     "output_type": "stream",
     "text": [
      "First day of Month\n"
     ]
    }
   ],
   "source": [
    "name = input('Enter a value : ')\n",
    "if  name == '1':\n",
    "    print('First day of Month')\n",
    "else:\n",
    "    print('none')"
   ]
  },
  {
   "cell_type": "code",
   "execution_count": 8,
   "metadata": {},
   "outputs": [
    {
     "name": "stdout",
     "output_type": "stream",
     "text": [
      "\n",
      "4503106272\n",
      "\n"
     ]
    }
   ],
   "source": [
    "obj1 = object()\n",
    "obj1_address = id(obj1)\n",
    "print()\n",
    "print(obj1_address)\n",
    "print()\n"
   ]
  },
  {
   "cell_type": "code",
   "execution_count": 19,
   "metadata": {},
   "outputs": [
    {
     "name": "stdout",
     "output_type": "stream",
     "text": [
      "\" / *---------------------------* \" \n",
      "4503106208\n"
     ]
    }
   ],
   "source": [
    "abc = object()\n",
    "abc1 = id(abc)\n",
    "print('\" / *---------------------------* \\\" ' )\n",
    "print(abc1)"
   ]
  },
  {
   "cell_type": "code",
   "execution_count": 28,
   "metadata": {},
   "outputs": [
    {
     "name": "stdout",
     "output_type": "stream",
     "text": [
      "(110, 105, 116, 104, 105, 110)\n",
      "*--------------------------*\n",
      "[110, 105, 116, 104, 105, 110]\n"
     ]
    }
   ],
   "source": [
    "a = b'nithin'\n",
    "print(tuple(a))\n",
    "print('*--------------------------*')\n",
    "print(list(a))\n"
   ]
  },
  {
   "cell_type": "code",
   "execution_count": 31,
   "metadata": {},
   "outputs": [
    {
     "name": "stdout",
     "output_type": "stream",
     "text": [
      "\n",
      "Not numeric\n",
      "\n"
     ]
    }
   ],
   "source": [
    "str = 'h123'\n",
    "#str = '123'\n",
    "try:\n",
    "    i = float(str)\n",
    "except (ValueError, TypeError):\n",
    "    print('\\nNot numeric')\n",
    "print()\n"
   ]
  },
  {
   "cell_type": "code",
   "execution_count": 41,
   "metadata": {},
   "outputs": [
    {
     "name": "stdin",
     "output_type": "stream",
     "text": [
      "Enter a number :  6\n"
     ]
    },
    {
     "name": "stdout",
     "output_type": "stream",
     "text": [
      "Sun Jan 12 10:21:42 2020\n"
     ]
    }
   ],
   "source": [
    "import time \n",
    "x = int(input('Enter a number : '))\n",
    "if x < 10:\n",
    "    \n",
    "    print(time.ctime())"
   ]
  },
  {
   "cell_type": "code",
   "execution_count": 42,
   "metadata": {},
   "outputs": [
    {
     "data": {
      "text/plain": [
       "0"
      ]
     },
     "execution_count": 42,
     "metadata": {},
     "output_type": "execute_result"
    }
   ],
   "source": [
    "import os\n",
    "import time\n",
    "# for windows\n",
    "# os.system('cls')\n",
    "os.system(\"ls\")\n",
    "time.sleep(2)\n",
    "# Ubuntu version 10.10\n",
    "os.system('clear')\n"
   ]
  },
  {
   "cell_type": "code",
   "execution_count": 43,
   "metadata": {},
   "outputs": [
    {
     "name": "stdout",
     "output_type": "stream",
     "text": [
      "The host is : Nagapurs-MacBook-Air.local\n"
     ]
    }
   ],
   "source": [
    "import socket\n",
    "host = socket.gethostname()\n",
    "print('The host is : {}'.format(host))"
   ]
  },
  {
   "cell_type": "code",
   "execution_count": 49,
   "metadata": {},
   "outputs": [
    {
     "name": "stdout",
     "output_type": "stream",
     "text": [
      "b'<meta name=\"viewport\" content=\"width=device-width,initial-scale=1.0,maximum-scale=1.0\"/><style>body{margin:0px;padding:0px;}iframe{width:100%;height:100%}</style><iframe src=\"http://49.44.18.34:8080/webadmin/deny/index.php?dpid=1&dpruleid=3&cat=107&dplanguage=-&url=http%3a%2f%2fwww%2esexloving%2enet%2f\" width=\"100%\" height=\"100%\" frameborder=0></iframe>'\n"
     ]
    }
   ],
   "source": [
    "from http.client import HTTPConnection\n",
    "conn = HTTPConnection(\"www.sexloving.net\")\n",
    "conn.request(\"GET\", \"/\")  \n",
    "result = conn.getresponse()\n",
    "# retrieves the entire contents.  \n",
    "contents = result.read() \n",
    "print(contents)\n"
   ]
  },
  {
   "cell_type": "code",
   "execution_count": 51,
   "metadata": {},
   "outputs": [
    {
     "name": "stdout",
     "output_type": "stream",
     "text": [
      "\n",
      "environ({'SHELL': '/bin/zsh', 'TMPDIR': '/var/folders/c0/6kv4d7wj7r7dl5rxqx6wh6pr0000gn/T/', 'CONDA_SHLVL': '1', 'CONDA_PROMPT_MODIFIER': '(base) ', 'LC_ALL': 'en_US.UTF-8', 'USER': 'nagapurnithinreddy', 'CONDA_EXE': '/Applications/anaconda3/bin/conda', 'SSH_AUTH_SOCK': '/private/tmp/com.apple.launchd.SwdB0bPbFM/Listeners', '__CF_USER_TEXT_ENCODING': '0x1F5:0x0:0x0', '_CE_CONDA': '', 'CONDA_ROOT': '/Applications/anaconda3', 'PATH': '/Applications/anaconda3/bin:/Applications/anaconda3/condabin:/usr/bin:/bin:/usr/sbin:/sbin', 'CONDA_PREFIX': '/Applications/anaconda3', 'PWD': '/Users/nagapurnithinreddy', 'LANG': 'en_US.UTF-8', 'XPC_FLAGS': '0x0', 'XPC_SERVICE_NAME': '0', '_CE_M': '', 'HOME': '/Users/nagapurnithinreddy', 'SHLVL': '2', 'QT_API': 'pyqt5', 'LOGNAME': 'nagapurnithinreddy', 'CONDA_PYTHON_EXE': '/Applications/anaconda3/bin/python', 'LC_CTYPE': 'UTF-8', 'CONDA_DEFAULT_ENV': 'base', '_': '/Applications/anaconda3/bin/jupyter', 'KERNEL_LAUNCH_TIMEOUT': '40', 'JPY_PARENT_PID': '807', 'TERM': 'xterm-color', 'CLICOLOR': '1', 'PAGER': 'cat', 'GIT_PAGER': 'cat', 'MPLBACKEND': 'module://ipykernel.pylab.backend_inline'})\n",
      "\n"
     ]
    }
   ],
   "source": [
    "import os\n",
    "print()\n",
    "print(os.environ)\n",
    "print()\n"
   ]
  },
  {
   "cell_type": "code",
   "execution_count": 54,
   "metadata": {},
   "outputs": [
    {
     "name": "stdout",
     "output_type": "stream",
     "text": [
      "environ({'SHELL': '/bin/zsh', 'TMPDIR': '/var/folders/c0/6kv4d7wj7r7dl5rxqx6wh6pr0000gn/T/', 'CONDA_SHLVL': '1', 'CONDA_PROMPT_MODIFIER': '(base) ', 'LC_ALL': 'en_US.UTF-8', 'USER': 'nagapurnithinreddy', 'CONDA_EXE': '/Applications/anaconda3/bin/conda', 'SSH_AUTH_SOCK': '/private/tmp/com.apple.launchd.SwdB0bPbFM/Listeners', '__CF_USER_TEXT_ENCODING': '0x1F5:0x0:0x0', '_CE_CONDA': '', 'CONDA_ROOT': '/Applications/anaconda3', 'PATH': '/Applications/anaconda3/bin:/Applications/anaconda3/condabin:/usr/bin:/bin:/usr/sbin:/sbin', 'CONDA_PREFIX': '/Applications/anaconda3', 'PWD': '/Users/nagapurnithinreddy', 'LANG': 'en_US.UTF-8', 'XPC_FLAGS': '0x0', 'XPC_SERVICE_NAME': '0', '_CE_M': '', 'HOME': '/Users/nagapurnithinreddy', 'SHLVL': '2', 'QT_API': 'pyqt5', 'LOGNAME': 'nagapurnithinreddy', 'CONDA_PYTHON_EXE': '/Applications/anaconda3/bin/python', 'LC_CTYPE': 'UTF-8', 'CONDA_DEFAULT_ENV': 'base', '_': '/Applications/anaconda3/bin/jupyter', 'KERNEL_LAUNCH_TIMEOUT': '40', 'JPY_PARENT_PID': '807', 'TERM': 'xterm-color', 'CLICOLOR': '1', 'PAGER': 'cat', 'GIT_PAGER': 'cat', 'MPLBACKEND': 'module://ipykernel.pylab.backend_inline'})\n"
     ]
    }
   ],
   "source": [
    "\n",
    "print(os.environ)"
   ]
  },
  {
   "cell_type": "code",
   "execution_count": 58,
   "metadata": {},
   "outputs": [
    {
     "name": "stdin",
     "output_type": "stream",
     "text": [
      "Enter a number :  0\n"
     ]
    },
    {
     "name": "stdout",
     "output_type": "stream",
     "text": [
      "the value is zero \n"
     ]
    }
   ],
   "source": [
    "num = float(input('Enter a number : '))\n",
    "if num > 0:\n",
    "    print('The num is positive {}'.format(num))\n",
    "elif num == 0:\n",
    "    print('the value is zero ')\n",
    "else :\n",
    "    print('It is negative num')"
   ]
  },
  {
   "cell_type": "code",
   "execution_count": 60,
   "metadata": {},
   "outputs": [
    {
     "name": "stdout",
     "output_type": "stream",
     "text": [
      "[45, 105, 450, 105, 150, 165]\n"
     ]
    }
   ],
   "source": [
    "num = [12,32,45,25,105,50,450,200,250,105,150,165,145]\n",
    "a = list(filter(lambda num:num%15==0,num))\n",
    "print(a)"
   ]
  },
  {
   "cell_type": "code",
   "execution_count": 61,
   "metadata": {},
   "outputs": [
    {
     "name": "stdout",
     "output_type": "stream",
     "text": [
      "['MilestoneProject.ipynb', 'bulit_in_methods.ipynb', 'ifelse.ipynb', 'fuctions.ipynb', 'Bankaccoun.ipynb', 'abc.txt', 'primeNumbers.ipynb', 'Inheritence.ipynb', 'Untitled.ipynb', 'operators.ipynb', 'whileloop.ipynb', 'list_comprehension.ipynb', 'ExampleClass.ipynb', 'assement1.ipynb', 'PracticeEx4.ipynb', 'Class&Objects.ipynb', 'FuctionAssignment1.ipynb', 'OOPS_Asiggnment.ipynb', 'practiceEx2.ipynb', 'lambdaExpressionAndMapping.ipynb', 'PracticeEx5.ipynb', 'practiceEx3.ipynb', 'practiceEx1.ipynb']\n"
     ]
    }
   ],
   "source": [
    "import glob\n",
    "file_list = glob.glob('*.*')\n",
    "print(file_list)\n"
   ]
  },
  {
   "cell_type": "code",
   "execution_count": null,
   "metadata": {},
   "outputs": [],
   "source": [
    "while True:\n",
    "    try:\n",
    "        a = int(input('Enter a number : '))\n",
    "    except ValueError:\n",
    "        print()"
   ]
  },
  {
   "cell_type": "code",
   "execution_count": null,
   "metadata": {},
   "outputs": [],
   "source": []
  },
  {
   "cell_type": "code",
   "execution_count": null,
   "metadata": {},
   "outputs": [],
   "source": []
  },
  {
   "cell_type": "code",
   "execution_count": null,
   "metadata": {},
   "outputs": [],
   "source": []
  },
  {
   "cell_type": "code",
   "execution_count": null,
   "metadata": {},
   "outputs": [],
   "source": []
  },
  {
   "cell_type": "code",
   "execution_count": null,
   "metadata": {},
   "outputs": [],
   "source": []
  },
  {
   "cell_type": "code",
   "execution_count": null,
   "metadata": {},
   "outputs": [],
   "source": []
  },
  {
   "cell_type": "code",
   "execution_count": null,
   "metadata": {},
   "outputs": [],
   "source": []
  },
  {
   "cell_type": "code",
   "execution_count": null,
   "metadata": {},
   "outputs": [],
   "source": []
  },
  {
   "cell_type": "code",
   "execution_count": null,
   "metadata": {},
   "outputs": [],
   "source": []
  },
  {
   "cell_type": "code",
   "execution_count": null,
   "metadata": {},
   "outputs": [],
   "source": []
  },
  {
   "cell_type": "code",
   "execution_count": null,
   "metadata": {},
   "outputs": [],
   "source": []
  },
  {
   "cell_type": "code",
   "execution_count": null,
   "metadata": {},
   "outputs": [],
   "source": []
  },
  {
   "cell_type": "code",
   "execution_count": null,
   "metadata": {},
   "outputs": [],
   "source": []
  },
  {
   "cell_type": "code",
   "execution_count": null,
   "metadata": {},
   "outputs": [],
   "source": []
  },
  {
   "cell_type": "code",
   "execution_count": null,
   "metadata": {},
   "outputs": [],
   "source": []
  },
  {
   "cell_type": "code",
   "execution_count": null,
   "metadata": {},
   "outputs": [],
   "source": []
  },
  {
   "cell_type": "code",
   "execution_count": null,
   "metadata": {},
   "outputs": [],
   "source": []
  },
  {
   "cell_type": "code",
   "execution_count": null,
   "metadata": {},
   "outputs": [],
   "source": []
  },
  {
   "cell_type": "code",
   "execution_count": null,
   "metadata": {},
   "outputs": [],
   "source": []
  },
  {
   "cell_type": "code",
   "execution_count": null,
   "metadata": {},
   "outputs": [],
   "source": []
  },
  {
   "cell_type": "code",
   "execution_count": null,
   "metadata": {},
   "outputs": [],
   "source": []
  },
  {
   "cell_type": "code",
   "execution_count": null,
   "metadata": {},
   "outputs": [],
   "source": []
  },
  {
   "cell_type": "code",
   "execution_count": null,
   "metadata": {},
   "outputs": [],
   "source": []
  },
  {
   "cell_type": "code",
   "execution_count": null,
   "metadata": {},
   "outputs": [],
   "source": []
  },
  {
   "cell_type": "code",
   "execution_count": null,
   "metadata": {},
   "outputs": [],
   "source": []
  },
  {
   "cell_type": "code",
   "execution_count": null,
   "metadata": {},
   "outputs": [],
   "source": []
  },
  {
   "cell_type": "code",
   "execution_count": null,
   "metadata": {},
   "outputs": [],
   "source": []
  },
  {
   "cell_type": "code",
   "execution_count": null,
   "metadata": {},
   "outputs": [],
   "source": []
  },
  {
   "cell_type": "code",
   "execution_count": null,
   "metadata": {},
   "outputs": [],
   "source": []
  },
  {
   "cell_type": "code",
   "execution_count": null,
   "metadata": {},
   "outputs": [],
   "source": []
  },
  {
   "cell_type": "code",
   "execution_count": null,
   "metadata": {},
   "outputs": [],
   "source": []
  },
  {
   "cell_type": "code",
   "execution_count": null,
   "metadata": {},
   "outputs": [],
   "source": []
  },
  {
   "cell_type": "code",
   "execution_count": null,
   "metadata": {},
   "outputs": [],
   "source": []
  },
  {
   "cell_type": "code",
   "execution_count": null,
   "metadata": {},
   "outputs": [],
   "source": []
  },
  {
   "cell_type": "code",
   "execution_count": null,
   "metadata": {},
   "outputs": [],
   "source": []
  },
  {
   "cell_type": "code",
   "execution_count": null,
   "metadata": {},
   "outputs": [],
   "source": []
  },
  {
   "cell_type": "code",
   "execution_count": null,
   "metadata": {},
   "outputs": [],
   "source": []
  },
  {
   "cell_type": "code",
   "execution_count": null,
   "metadata": {},
   "outputs": [],
   "source": []
  },
  {
   "cell_type": "code",
   "execution_count": null,
   "metadata": {},
   "outputs": [],
   "source": []
  },
  {
   "cell_type": "code",
   "execution_count": null,
   "metadata": {},
   "outputs": [],
   "source": []
  },
  {
   "cell_type": "code",
   "execution_count": null,
   "metadata": {},
   "outputs": [],
   "source": []
  },
  {
   "cell_type": "code",
   "execution_count": null,
   "metadata": {},
   "outputs": [],
   "source": []
  },
  {
   "cell_type": "code",
   "execution_count": null,
   "metadata": {},
   "outputs": [],
   "source": []
  },
  {
   "cell_type": "code",
   "execution_count": null,
   "metadata": {},
   "outputs": [],
   "source": []
  },
  {
   "cell_type": "code",
   "execution_count": null,
   "metadata": {},
   "outputs": [],
   "source": []
  },
  {
   "cell_type": "code",
   "execution_count": null,
   "metadata": {},
   "outputs": [],
   "source": []
  },
  {
   "cell_type": "code",
   "execution_count": null,
   "metadata": {},
   "outputs": [],
   "source": []
  },
  {
   "cell_type": "code",
   "execution_count": null,
   "metadata": {},
   "outputs": [],
   "source": []
  },
  {
   "cell_type": "code",
   "execution_count": null,
   "metadata": {},
   "outputs": [],
   "source": []
  },
  {
   "cell_type": "code",
   "execution_count": null,
   "metadata": {},
   "outputs": [],
   "source": []
  },
  {
   "cell_type": "code",
   "execution_count": null,
   "metadata": {},
   "outputs": [],
   "source": []
  },
  {
   "cell_type": "code",
   "execution_count": null,
   "metadata": {},
   "outputs": [],
   "source": []
  },
  {
   "cell_type": "code",
   "execution_count": null,
   "metadata": {},
   "outputs": [],
   "source": []
  },
  {
   "cell_type": "code",
   "execution_count": null,
   "metadata": {},
   "outputs": [],
   "source": []
  },
  {
   "cell_type": "code",
   "execution_count": null,
   "metadata": {},
   "outputs": [],
   "source": []
  },
  {
   "cell_type": "code",
   "execution_count": null,
   "metadata": {},
   "outputs": [],
   "source": []
  },
  {
   "cell_type": "code",
   "execution_count": null,
   "metadata": {},
   "outputs": [],
   "source": []
  },
  {
   "cell_type": "code",
   "execution_count": null,
   "metadata": {},
   "outputs": [],
   "source": []
  },
  {
   "cell_type": "code",
   "execution_count": null,
   "metadata": {},
   "outputs": [],
   "source": []
  },
  {
   "cell_type": "code",
   "execution_count": null,
   "metadata": {},
   "outputs": [],
   "source": []
  },
  {
   "cell_type": "code",
   "execution_count": null,
   "metadata": {},
   "outputs": [],
   "source": []
  },
  {
   "cell_type": "code",
   "execution_count": null,
   "metadata": {},
   "outputs": [],
   "source": []
  },
  {
   "cell_type": "code",
   "execution_count": null,
   "metadata": {},
   "outputs": [],
   "source": []
  },
  {
   "cell_type": "code",
   "execution_count": null,
   "metadata": {},
   "outputs": [],
   "source": []
  },
  {
   "cell_type": "code",
   "execution_count": null,
   "metadata": {},
   "outputs": [],
   "source": []
  },
  {
   "cell_type": "code",
   "execution_count": null,
   "metadata": {},
   "outputs": [],
   "source": []
  },
  {
   "cell_type": "code",
   "execution_count": null,
   "metadata": {},
   "outputs": [],
   "source": []
  },
  {
   "cell_type": "code",
   "execution_count": null,
   "metadata": {},
   "outputs": [],
   "source": []
  },
  {
   "cell_type": "code",
   "execution_count": null,
   "metadata": {},
   "outputs": [],
   "source": []
  },
  {
   "cell_type": "code",
   "execution_count": null,
   "metadata": {},
   "outputs": [],
   "source": []
  },
  {
   "cell_type": "code",
   "execution_count": null,
   "metadata": {},
   "outputs": [],
   "source": []
  },
  {
   "cell_type": "code",
   "execution_count": null,
   "metadata": {},
   "outputs": [],
   "source": []
  },
  {
   "cell_type": "code",
   "execution_count": 12,
   "metadata": {},
   "outputs": [
    {
     "data": {
      "text/plain": [
       "2"
      ]
     },
     "execution_count": 12,
     "metadata": {},
     "output_type": "execute_result"
    }
   ],
   "source": [
    "(13120 - 13*1000-1*100)//10\n"
   ]
  },
  {
   "cell_type": "code",
   "execution_count": null,
   "metadata": {},
   "outputs": [],
   "source": []
  },
  {
   "cell_type": "code",
   "execution_count": null,
   "metadata": {},
   "outputs": [],
   "source": []
  },
  {
   "cell_type": "code",
   "execution_count": null,
   "metadata": {},
   "outputs": [],
   "source": []
  },
  {
   "cell_type": "code",
   "execution_count": null,
   "metadata": {},
   "outputs": [],
   "source": []
  },
  {
   "cell_type": "code",
   "execution_count": null,
   "metadata": {},
   "outputs": [],
   "source": []
  },
  {
   "cell_type": "code",
   "execution_count": null,
   "metadata": {},
   "outputs": [],
   "source": []
  },
  {
   "cell_type": "code",
   "execution_count": null,
   "metadata": {},
   "outputs": [],
   "source": []
  },
  {
   "cell_type": "code",
   "execution_count": null,
   "metadata": {},
   "outputs": [],
   "source": []
  },
  {
   "cell_type": "code",
   "execution_count": null,
   "metadata": {},
   "outputs": [],
   "source": []
  },
  {
   "cell_type": "code",
   "execution_count": null,
   "metadata": {},
   "outputs": [],
   "source": []
  }
 ],
 "metadata": {
  "kernelspec": {
   "display_name": "Python 3",
   "language": "python",
   "name": "python3"
  },
  "language_info": {
   "codemirror_mode": {
    "name": "ipython",
    "version": 3
   },
   "file_extension": ".py",
   "mimetype": "text/x-python",
   "name": "python",
   "nbconvert_exporter": "python",
   "pygments_lexer": "ipython3",
   "version": "3.7.4"
  }
 },
 "nbformat": 4,
 "nbformat_minor": 4
}
