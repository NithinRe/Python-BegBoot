{
 "cells": [
  {
   "cell_type": "code",
   "execution_count": 2,
   "metadata": {},
   "outputs": [
    {
     "name": "stdin",
     "output_type": "stream",
     "text": [
      "Enter a name :  s\n"
     ]
    }
   ],
   "source": [
    "grade = { 's':10,'h':9,'i':8,'j':7,'k':6,'l':5,'m':'fail'}\n",
    "x = input('Enter a name : ')\n",
    "def check(y):\n",
    "    if x in grade:\n",
    "        return grade*3\n",
    "    \n",
    "    "
   ]
  },
  {
   "cell_type": "code",
   "execution_count": 3,
   "metadata": {},
   "outputs": [
    {
     "name": "stdout",
     "output_type": "stream",
     "text": [
      "abcde\n"
     ]
    }
   ],
   "source": [
    "def con(list):\n",
    "    result = ''\n",
    "    for i in list:\n",
    "        result += str(i)\n",
    "    return result\n",
    "print(con(['a','b','c','d','e']))"
   ]
  },
  {
   "cell_type": "code",
   "execution_count": 8,
   "metadata": {},
   "outputs": [
    {
     "name": "stdout",
     "output_type": "stream",
     "text": [
      "320\n",
      "2\n",
      "4\n",
      "6\n",
      "56\n",
      "60\n",
      "62\n",
      "64\n",
      "232\n",
      "234\n",
      "236\n",
      "238\n",
      "237\n"
     ]
    }
   ],
   "source": [
    "num = [320, 2,3,4,5,6,7,56,57,53,59,60,62,63,64,232,233,234,236,238,237]\n",
    "for x in num:\n",
    "    if x == 237:\n",
    "        print(x)\n",
    "        break;\n",
    "    elif x % 2 == 0:\n",
    "        print(x)"
   ]
  },
  {
   "cell_type": "code",
   "execution_count": 18,
   "metadata": {},
   "outputs": [
    {
     "name": "stdout",
     "output_type": "stream",
     "text": [
      "{1, 2, 3, 4, 5, 6, 7, 8, 12, 13, 14}\n"
     ]
    }
   ],
   "source": [
    "color_list1 = set([1,2,3,4,5,6,7,8])\n",
    "color_list2 = set([2,12,13,14,3,6,1])\n",
    "print(color_list2.union(color_list1))"
   ]
  },
  {
   "cell_type": "code",
   "execution_count": 21,
   "metadata": {},
   "outputs": [
    {
     "name": "stdin",
     "output_type": "stream",
     "text": [
      "Enter base of triangle :  20\n",
      "Enter height of triangle 40\n"
     ]
    },
    {
     "name": "stdout",
     "output_type": "stream",
     "text": [
      "area of triangle 400.0\n"
     ]
    }
   ],
   "source": [
    "base = float(input('Enter base of triangle : '))\n",
    "height = float(input('Enter height of triangle'))\n",
    "area = height*base/2\n",
    "print('area of triangle {}'.format(area))"
   ]
  },
  {
   "cell_type": "code",
   "execution_count": 24,
   "metadata": {},
   "outputs": [
    {
     "name": "stdout",
     "output_type": "stream",
     "text": [
      "0\n"
     ]
    }
   ],
   "source": [
    "def num(a,b,c):\n",
    "    sum = a+b+c\n",
    "    if a == b or b==c or c==a:\n",
    "        return 0\n",
    "    return sum\n",
    "print(num(1,2,2))"
   ]
  },
  {
   "cell_type": "code",
   "execution_count": 28,
   "metadata": {},
   "outputs": [
    {
     "name": "stdin",
     "output_type": "stream",
     "text": [
      "Enter a number :  12\n",
      "Enter a number :  5\n"
     ]
    },
    {
     "name": "stdout",
     "output_type": "stream",
     "text": [
      "20\n"
     ]
    }
   ],
   "source": [
    "def num(a,b):\n",
    "    sum = a+b\n",
    "    if sum in range(15,20):\n",
    "        return 20\n",
    "    return sum\n",
    "\n",
    "x = int(input('Enter a number : '))\n",
    "y = int(input('Enter a number : '))\n",
    "print(num(x,y))"
   ]
  },
  {
   "cell_type": "code",
   "execution_count": 35,
   "metadata": {},
   "outputs": [
    {
     "name": "stdout",
     "output_type": "stream",
     "text": [
      "True\n"
     ]
    }
   ],
   "source": [
    "def num(a,b):\n",
    "    \n",
    "    if a==b or (a+b)==5 or  abs(a-b)==5:\n",
    "        return True\n",
    "    else:\n",
    "        return False\n",
    "print(num(2,3))"
   ]
  },
  {
   "cell_type": "code",
   "execution_count": 41,
   "metadata": {},
   "outputs": [
    {
     "name": "stdin",
     "output_type": "stream",
     "text": [
      "Enter your name :  nithin\n",
      "what is your age : 20\n",
      "where do you stay :  hy\n"
     ]
    },
    {
     "name": "stdout",
     "output_type": "stream",
     "text": [
      "Name : nithin\n",
      "Age : 20\n",
      "Address : hy\n"
     ]
    }
   ],
   "source": [
    "name = input('Enter your name : ')\n",
    "age = input('what is your age :')\n",
    "adrress = input('where do you stay : ')\n",
    "print(\"Name : {}\\nAge : {}\\nAddress : {}\".format(name,age,adrress))"
   ]
  },
  {
   "cell_type": "code",
   "execution_count": 45,
   "metadata": {},
   "outputs": [
    {
     "name": "stdin",
     "output_type": "stream",
     "text": [
      "Enter a number :  3\n",
      "Enter a number :  4\n"
     ]
    },
    {
     "name": "stdout",
     "output_type": "stream",
     "text": [
      "49\n"
     ]
    }
   ],
   "source": [
    "def square():\n",
    "    a = int(input('Enter a number : '))\n",
    "    b = int(input('Enter a number : '))\n",
    "    c = (a+b)**2\n",
    "    return c\n",
    "print(square())"
   ]
  },
  {
   "cell_type": "code",
   "execution_count": 65,
   "metadata": {},
   "outputs": [
    {
     "name": "stdin",
     "output_type": "stream",
     "text": [
      "Enter intrest rate :  7.25\n",
      "What is your investment :  2000\n",
      "Enter how many years :  5\n"
     ]
    },
    {
     "name": "stdout",
     "output_type": "stream",
     "text": [
      "The intrest you get is 1.45e-06\n",
      "The total amount is 2000.00000145\n"
     ]
    }
   ],
   "source": [
    "intrest = float(input('Enter intrest rate : '))\n",
    "amount = float(input('What is your investment : '))\n",
    "years = float(input('Enter how many years : '))\n",
    "fp = amount*(intrest)/100*years\n",
    "total = fp+amount\n",
    "print('The intrest you get is {}'.format(fp))\n",
    "print('The total amount is {}'.format(total))"
   ]
  },
  {
   "cell_type": "code",
   "execution_count": 54,
   "metadata": {},
   "outputs": [
    {
     "name": "stdout",
     "output_type": "stream",
     "text": [
      "2838.03\n"
     ]
    }
   ],
   "source": [
    "amt = 2000\n",
    "int = 7.25\n",
    "years = 5\n",
    "\n",
    "future_value  = amt*((1+(0.01*int)) ** years)\n",
    "print(round(future_value,2))"
   ]
  },
  {
   "cell_type": "code",
   "execution_count": 11,
   "metadata": {},
   "outputs": [
    {
     "name": "stdin",
     "output_type": "stream",
     "text": [
      "Enter a number :  4\n",
      "Enter a number :  0\n",
      "Enter a number :  6\n",
      "Enter a number :  6\n"
     ]
    },
    {
     "name": "stdout",
     "output_type": "stream",
     "text": [
      "6.324555320336759\n"
     ]
    }
   ],
   "source": [
    "import math\n",
    "#x1 = [4,0]\n",
    "#x2 = [6,6]\n",
    "x1 = int(input('Enter a number : '))\n",
    "x2 = int(input('Enter a number : '))\n",
    "y1 = int(input('Enter a number : '))\n",
    "y2 = int(input('Enter a number : '))\n",
    "distance = math.sqrt( ((x1-y1)**2)+((x2-y2)**2) )\n",
    "print(distance)"
   ]
  },
  {
   "cell_type": "code",
   "execution_count": 12,
   "metadata": {},
   "outputs": [
    {
     "name": "stdout",
     "output_type": "stream",
     "text": [
      "False\n"
     ]
    }
   ],
   "source": [
    "import os.path\n",
    "open('abc.txt','w')\n",
    "print(os.path.isfile('abx.txt'))"
   ]
  },
  {
   "cell_type": "code",
   "execution_count": 16,
   "metadata": {},
   "outputs": [
    {
     "name": "stdout",
     "output_type": "stream",
     "text": [
      "1\n"
     ]
    }
   ],
   "source": [
    "import struct\n",
    "print(struct.calcsize(\"p\")*8)"
   ]
  },
  {
   "cell_type": "code",
   "execution_count": 17,
   "metadata": {},
   "outputs": [
    {
     "name": "stdout",
     "output_type": "stream",
     "text": [
      "posix\n",
      "Darwin\n",
      "19.0.0\n"
     ]
    }
   ],
   "source": [
    "import platform\n",
    "import os\n",
    "print(os.name)\n",
    "print(platform.system())\n",
    "print(platform.release())"
   ]
  },
  {
   "cell_type": "code",
   "execution_count": 18,
   "metadata": {},
   "outputs": [
    {
     "name": "stdout",
     "output_type": "stream",
     "text": [
      "['/Applications/anaconda3/lib/python3.7/site-packages']\n"
     ]
    }
   ],
   "source": [
    "import site\n",
    "print(site.getsitepackages())"
   ]
  },
  {
   "cell_type": "code",
   "execution_count": 23,
   "metadata": {},
   "outputs": [
    {
     "name": "stdout",
     "output_type": "stream",
     "text": [
      "4\n"
     ]
    }
   ],
   "source": [
    "import multiprocessing\n",
    "print(multiprocessing.cpu_count())\n"
   ]
  },
  {
   "cell_type": "code",
   "execution_count": 24,
   "metadata": {},
   "outputs": [
    {
     "name": "stdout",
     "output_type": "stream",
     "text": [
      "1312.3\n",
      "1312\n"
     ]
    }
   ],
   "source": [
    "x = '1312.3'\n",
    "print(float(x))\n",
    "print(int(float(x)))"
   ]
  },
  {
   "cell_type": "code",
   "execution_count": 30,
   "metadata": {},
   "outputs": [
    {
     "name": "stdout",
     "output_type": "stream",
     "text": [
      "\n",
      "\n",
      "**********\n",
      "\n",
      "\n",
      "\n"
     ]
    }
   ],
   "source": [
    "print('\\n')\n",
    "for i in range(0,10):\n",
    "    print('*',end='')\n",
    "print('\\n')\n",
    "print('\\n')\n",
    "    "
   ]
  },
  {
   "cell_type": "code",
   "execution_count": 33,
   "metadata": {},
   "outputs": [
    {
     "name": "stdout",
     "output_type": "stream",
     "text": [
      "901\n",
      "         39 function calls in 0.000 seconds\n",
      "\n",
      "   Ordered by: standard name\n",
      "\n",
      "   ncalls  tottime  percall  cumtime  percall filename:lineno(function)\n",
      "        1    0.000    0.000    0.000    0.000 <ipython-input-33-091ed2a9aca3>:2(sum)\n",
      "        1    0.000    0.000    0.000    0.000 <string>:1(<module>)\n",
      "        3    0.000    0.000    0.000    0.000 iostream.py:197(schedule)\n",
      "        2    0.000    0.000    0.000    0.000 iostream.py:309(_is_master_process)\n",
      "        2    0.000    0.000    0.000    0.000 iostream.py:322(_schedule_flush)\n",
      "        2    0.000    0.000    0.000    0.000 iostream.py:384(write)\n",
      "        3    0.000    0.000    0.000    0.000 iostream.py:93(_event_pipe)\n",
      "        3    0.000    0.000    0.000    0.000 socket.py:342(send)\n",
      "        3    0.000    0.000    0.000    0.000 threading.py:1050(_wait_for_tstate_lock)\n",
      "        3    0.000    0.000    0.000    0.000 threading.py:1092(is_alive)\n",
      "        3    0.000    0.000    0.000    0.000 threading.py:507(is_set)\n",
      "        1    0.000    0.000    0.000    0.000 {built-in method builtins.exec}\n",
      "        2    0.000    0.000    0.000    0.000 {built-in method builtins.isinstance}\n",
      "        1    0.000    0.000    0.000    0.000 {built-in method builtins.print}\n",
      "        2    0.000    0.000    0.000    0.000 {built-in method posix.getpid}\n",
      "        3    0.000    0.000    0.000    0.000 {method 'acquire' of '_thread.lock' objects}\n",
      "        3    0.000    0.000    0.000    0.000 {method 'append' of 'collections.deque' objects}\n",
      "        1    0.000    0.000    0.000    0.000 {method 'disable' of '_lsprof.Profiler' objects}\n",
      "\n",
      "\n"
     ]
    }
   ],
   "source": [
    "import cProfile\n",
    "def sum():\n",
    "    print(1+900)\n",
    "cProfile.run('sum()')\n"
   ]
  },
  {
   "cell_type": "code",
   "execution_count": 38,
   "metadata": {},
   "outputs": [
    {
     "name": "stdout",
     "output_type": "stream",
     "text": [
      "*---------------------------------------*\n",
      "\n",
      "\n",
      "environ({'SHELL': '/bin/zsh', 'TMPDIR': '/var/folders/c0/6kv4d7wj7r7dl5rxqx6wh6pr0000gn/T/', 'CONDA_SHLVL': '1', 'CONDA_PROMPT_MODIFIER': '(base) ', 'LC_ALL': 'en_US.UTF-8', 'USER': 'nagapurnithinreddy', 'CONDA_EXE': '/Applications/anaconda3/bin/conda', 'SSH_AUTH_SOCK': '/private/tmp/com.apple.launchd.CsEj1ZmT4X/Listeners', '__CF_USER_TEXT_ENCODING': '0x1F5:0x0:0x0', '_CE_CONDA': '', 'CONDA_ROOT': '/Applications/anaconda3', 'PATH': '/Applications/anaconda3/bin:/Applications/anaconda3/condabin:/usr/bin:/bin:/usr/sbin:/sbin', 'CONDA_PREFIX': '/Applications/anaconda3', 'PWD': '/Users/nagapurnithinreddy', 'LANG': 'en_US.UTF-8', 'XPC_FLAGS': '0x0', 'XPC_SERVICE_NAME': '0', '_CE_M': '', 'HOME': '/Users/nagapurnithinreddy', 'SHLVL': '2', 'QT_API': 'pyqt5', 'LOGNAME': 'nagapurnithinreddy', 'CONDA_PYTHON_EXE': '/Applications/anaconda3/bin/python', 'LC_CTYPE': 'UTF-8', 'CONDA_DEFAULT_ENV': 'base', '_': '/Applications/anaconda3/bin/jupyter', 'KERNEL_LAUNCH_TIMEOUT': '40', 'JPY_PARENT_PID': '1165', 'TERM': 'xterm-color', 'CLICOLOR': '1', 'PAGER': 'cat', 'GIT_PAGER': 'cat', 'MPLBACKEND': 'module://ipykernel.pylab.backend_inline'})\n",
      "\n",
      "\n",
      "*---------------------------------------*\n",
      "\n",
      "\n",
      "/Users/nagapurnithinreddy\n",
      "\n",
      "\n",
      "*---------------------------------------*\n",
      "\n",
      "\n",
      "/Applications/anaconda3/bin:/Applications/anaconda3/condabin:/usr/bin:/bin:/usr/sbin:/sbin\n",
      "\n",
      "\n"
     ]
    }
   ],
   "source": [
    "import os \n",
    "print('*---------------------------------------*')\n",
    "print('\\n')\n",
    "print(os.environ)\n",
    "print('\\n')\n",
    "\n",
    "print('*---------------------------------------*')\n",
    "print('\\n')\n",
    "print(os.environ['HOME'])\n",
    "print('\\n')\n",
    "print('*---------------------------------------*')\n",
    "print('\\n')\n",
    "print(os.environ['PATH'])\n",
    "print('\\n')\n",
    "\n"
   ]
  },
  {
   "cell_type": "code",
   "execution_count": 39,
   "metadata": {},
   "outputs": [
    {
     "name": "stdout",
     "output_type": "stream",
     "text": [
      "nagapurnithinreddy\n"
     ]
    }
   ],
   "source": [
    "import getpass\n",
    "print(getpass.getuser())\n"
   ]
  },
  {
   "cell_type": "code",
   "execution_count": null,
   "metadata": {},
   "outputs": [],
   "source": []
  },
  {
   "cell_type": "code",
   "execution_count": null,
   "metadata": {},
   "outputs": [],
   "source": []
  },
  {
   "cell_type": "code",
   "execution_count": null,
   "metadata": {},
   "outputs": [],
   "source": []
  },
  {
   "cell_type": "code",
   "execution_count": null,
   "metadata": {},
   "outputs": [],
   "source": []
  },
  {
   "cell_type": "code",
   "execution_count": null,
   "metadata": {},
   "outputs": [],
   "source": []
  },
  {
   "cell_type": "code",
   "execution_count": null,
   "metadata": {},
   "outputs": [],
   "source": []
  },
  {
   "cell_type": "code",
   "execution_count": null,
   "metadata": {},
   "outputs": [],
   "source": []
  },
  {
   "cell_type": "code",
   "execution_count": null,
   "metadata": {},
   "outputs": [],
   "source": []
  },
  {
   "cell_type": "code",
   "execution_count": null,
   "metadata": {},
   "outputs": [],
   "source": []
  },
  {
   "cell_type": "code",
   "execution_count": null,
   "metadata": {},
   "outputs": [],
   "source": []
  },
  {
   "cell_type": "code",
   "execution_count": null,
   "metadata": {},
   "outputs": [],
   "source": []
  },
  {
   "cell_type": "code",
   "execution_count": null,
   "metadata": {},
   "outputs": [],
   "source": []
  },
  {
   "cell_type": "code",
   "execution_count": null,
   "metadata": {},
   "outputs": [],
   "source": []
  }
 ],
 "metadata": {
  "kernelspec": {
   "display_name": "Python 3",
   "language": "python",
   "name": "python3"
  },
  "language_info": {
   "codemirror_mode": {
    "name": "ipython",
    "version": 3
   },
   "file_extension": ".py",
   "mimetype": "text/x-python",
   "name": "python",
   "nbconvert_exporter": "python",
   "pygments_lexer": "ipython3",
   "version": "3.7.4"
  }
 },
 "nbformat": 4,
 "nbformat_minor": 4
}
